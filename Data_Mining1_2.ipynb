{
  "nbformat": 4,
  "nbformat_minor": 0,
  "metadata": {
    "colab": {
      "provenance": [],
      "authorship_tag": "ABX9TyM8YIE5eMvshjB0ZCvP03Jb",
      "include_colab_link": true
    },
    "kernelspec": {
      "name": "python3",
      "display_name": "Python 3"
    },
    "language_info": {
      "name": "python"
    }
  },
  "cells": [
    {
      "cell_type": "markdown",
      "metadata": {
        "id": "view-in-github",
        "colab_type": "text"
      },
      "source": [
        "<a href=\"https://colab.research.google.com/github/mostafa-ja/Data-Mining-fall-2023/blob/main/Data_Mining1_2.ipynb\" target=\"_parent\"><img src=\"https://colab.research.google.com/assets/colab-badge.svg\" alt=\"Open In Colab\"/></a>"
      ]
    },
    {
      "cell_type": "code",
      "execution_count": 33,
      "metadata": {
        "colab": {
          "base_uri": "https://localhost:8080/"
        },
        "id": "GmQv02YBwnk_",
        "outputId": "5de88f60-4547-4143-a16b-ed0ba492818e"
      },
      "outputs": [
        {
          "output_type": "stream",
          "name": "stderr",
          "text": [
            "[nltk_data] Downloading package stopwords to /root/nltk_data...\n",
            "[nltk_data]   Package stopwords is already up-to-date!\n",
            "[nltk_data] Downloading package punkt to /root/nltk_data...\n",
            "[nltk_data]   Package punkt is already up-to-date!\n"
          ]
        },
        {
          "output_type": "execute_result",
          "data": {
            "text/plain": [
              "True"
            ]
          },
          "metadata": {},
          "execution_count": 33
        }
      ],
      "source": [
        "import pandas as pd\n",
        "import xml.etree.ElementTree as ET\n",
        "import seaborn as sns\n",
        "import matplotlib.pyplot as plt\n",
        "\n",
        "import nltk\n",
        "from nltk.corpus import stopwords\n",
        "from nltk.tokenize import word_tokenize\n",
        "from nltk.stem import PorterStemmer\n",
        "nltk.download('stopwords')\n",
        "nltk.download('punkt')"
      ]
    },
    {
      "cell_type": "code",
      "source": [
        "tree = ET.parse('/content/post.xml')\n",
        "root = tree.getroot()"
      ],
      "metadata": {
        "id": "w1-D_xsiw2NP"
      },
      "execution_count": 4,
      "outputs": []
    },
    {
      "cell_type": "code",
      "source": [
        "#create a pandas dataframe from the file\n",
        "\n",
        "# Initialize empty lists to store data\n",
        "ids = []\n",
        "post_types = []\n",
        "ParentId = []\n",
        "accepted_answer_ids = []\n",
        "creation_dates = []\n",
        "scores = []\n",
        "view_counts = []\n",
        "bodies = []\n",
        "owner_user_ids = []\n",
        "last_editor_user_ids = []\n",
        "last_editor_display_names = []\n",
        "last_edit_dates = []\n",
        "last_activity_dates = []\n",
        "titles = []\n",
        "tags = []\n",
        "answer_counts = []\n",
        "comment_counts = []\n",
        "favorite_counts = []\n",
        "community_owned_dates = []\n",
        "\n",
        "for post in root.findall('row'):\n",
        "    ids.append(post.get('Id'))\n",
        "    post_types.append(post.get('PostTypeId'))\n",
        "    ParentId.append(post.get('ParentId'))\n",
        "    accepted_answer_ids.append(post.get('AcceptedAnswerId'))\n",
        "    creation_dates.append(post.get('CreationDate'))\n",
        "    scores.append(post.get('Score'))\n",
        "    view_counts.append(post.get('ViewCount'))\n",
        "    bodies.append(post.get('Body'))\n",
        "    owner_user_ids.append(post.get('OwnerUserId'))\n",
        "    last_editor_user_ids.append(post.get('LastEditorUserId'))\n",
        "    last_editor_display_names.append(post.get('LastEditorDisplayName'))\n",
        "    last_edit_dates.append(post.get('LastEditDate'))\n",
        "    last_activity_dates.append(post.get('LastActivityDate'))\n",
        "    titles.append(post.get('Title'))\n",
        "    tags.append(post.get('Tags'))\n",
        "    answer_counts.append(post.get('AnswerCount'))\n",
        "    comment_counts.append(post.get('CommentCount'))\n",
        "    favorite_counts.append(post.get('FavoriteCount'))\n",
        "    community_owned_dates.append(post.get('CommunityOwnedDate'))\n",
        "\n",
        "# Create a DataFrame using the lists\n",
        "data = {\n",
        "    'id': ids,\n",
        "    'PostTypeId': post_types,\n",
        "    'ParentId': ParentId,\n",
        "    'AcceptedAnswerId': accepted_answer_ids,\n",
        "    'CreationDate': creation_dates,\n",
        "    'Score': scores,\n",
        "    'ViewCount': view_counts,\n",
        "    'Body': bodies,\n",
        "    'OwnerUserId': owner_user_ids,\n",
        "    'LastEditorUserId': last_editor_user_ids,\n",
        "    'LastEditorDisplayName': last_editor_display_names,\n",
        "    'LastEditDate': last_edit_dates,\n",
        "    'LastActivityDate': last_activity_dates,\n",
        "    'Title': titles,\n",
        "    'Tags': tags,\n",
        "    'AnswerCount': answer_counts,\n",
        "    'CommentCount': comment_counts,\n",
        "    'FavoriteCount': favorite_counts,\n",
        "    'CommunityOwnedDate': community_owned_dates\n",
        "}\n",
        "\n",
        "df = pd.DataFrame(data)\n",
        "df.head(3)"
      ],
      "metadata": {
        "colab": {
          "base_uri": "https://localhost:8080/",
          "height": 372
        },
        "id": "foMBApR9xILK",
        "outputId": "9ab5bfd5-8a72-4354-c92b-e2f30a01784d"
      },
      "execution_count": 7,
      "outputs": [
        {
          "output_type": "execute_result",
          "data": {
            "text/plain": [
              "  id PostTypeId ParentId AcceptedAnswerId             CreationDate Score  \\\n",
              "0  4          1     None                7  2008-07-31T21:42:52.667   322   \n",
              "1  6          1     None               31  2008-07-31T22:08:08.620   140   \n",
              "2  7          2        4             None  2008-07-31T22:17:57.883   242   \n",
              "\n",
              "  ViewCount                                               Body OwnerUserId  \\\n",
              "0     21888  <p>I want to use a track-bar to change a form'...           8   \n",
              "1     10912  <p>I have an absolutely positioned <code>div</...           9   \n",
              "2      None  <p>An explicit cast to double isn't necessary....           9   \n",
              "\n",
              "  LastEditorUserId LastEditorDisplayName             LastEditDate  \\\n",
              "0           451518                Rich B  2014-07-28T10:02:50.557   \n",
              "1          1350209                Rich B  2014-06-26T04:57:13.750   \n",
              "2           967315                  None  2012-10-14T11:50:16.703   \n",
              "\n",
              "          LastActivityDate                                              Title  \\\n",
              "0  2014-12-20T17:18:47.807  When setting a form's opacity should I use a d...   \n",
              "1  2014-10-10T05:55:36.033  Why doesn't the percentage width child in abso...   \n",
              "2  2012-10-14T11:50:16.703                                               None   \n",
              "\n",
              "                                       Tags AnswerCount CommentCount  \\\n",
              "0  <c#><winforms><type-conversion><opacity>          13            1   \n",
              "1    <html><css><css3><internet-explorer-7>           5            0   \n",
              "2                                      None        None            0   \n",
              "\n",
              "  FavoriteCount       CommunityOwnedDate  \n",
              "0            27  2012-10-31T16:42:47.213  \n",
              "1             7                     None  \n",
              "2          None                     None  "
            ],
            "text/html": [
              "\n",
              "  <div id=\"df-6582449f-4b93-447a-bb12-ed005e2d6b44\" class=\"colab-df-container\">\n",
              "    <div>\n",
              "<style scoped>\n",
              "    .dataframe tbody tr th:only-of-type {\n",
              "        vertical-align: middle;\n",
              "    }\n",
              "\n",
              "    .dataframe tbody tr th {\n",
              "        vertical-align: top;\n",
              "    }\n",
              "\n",
              "    .dataframe thead th {\n",
              "        text-align: right;\n",
              "    }\n",
              "</style>\n",
              "<table border=\"1\" class=\"dataframe\">\n",
              "  <thead>\n",
              "    <tr style=\"text-align: right;\">\n",
              "      <th></th>\n",
              "      <th>id</th>\n",
              "      <th>PostTypeId</th>\n",
              "      <th>ParentId</th>\n",
              "      <th>AcceptedAnswerId</th>\n",
              "      <th>CreationDate</th>\n",
              "      <th>Score</th>\n",
              "      <th>ViewCount</th>\n",
              "      <th>Body</th>\n",
              "      <th>OwnerUserId</th>\n",
              "      <th>LastEditorUserId</th>\n",
              "      <th>LastEditorDisplayName</th>\n",
              "      <th>LastEditDate</th>\n",
              "      <th>LastActivityDate</th>\n",
              "      <th>Title</th>\n",
              "      <th>Tags</th>\n",
              "      <th>AnswerCount</th>\n",
              "      <th>CommentCount</th>\n",
              "      <th>FavoriteCount</th>\n",
              "      <th>CommunityOwnedDate</th>\n",
              "    </tr>\n",
              "  </thead>\n",
              "  <tbody>\n",
              "    <tr>\n",
              "      <th>0</th>\n",
              "      <td>4</td>\n",
              "      <td>1</td>\n",
              "      <td>None</td>\n",
              "      <td>7</td>\n",
              "      <td>2008-07-31T21:42:52.667</td>\n",
              "      <td>322</td>\n",
              "      <td>21888</td>\n",
              "      <td>&lt;p&gt;I want to use a track-bar to change a form'...</td>\n",
              "      <td>8</td>\n",
              "      <td>451518</td>\n",
              "      <td>Rich B</td>\n",
              "      <td>2014-07-28T10:02:50.557</td>\n",
              "      <td>2014-12-20T17:18:47.807</td>\n",
              "      <td>When setting a form's opacity should I use a d...</td>\n",
              "      <td>&lt;c#&gt;&lt;winforms&gt;&lt;type-conversion&gt;&lt;opacity&gt;</td>\n",
              "      <td>13</td>\n",
              "      <td>1</td>\n",
              "      <td>27</td>\n",
              "      <td>2012-10-31T16:42:47.213</td>\n",
              "    </tr>\n",
              "    <tr>\n",
              "      <th>1</th>\n",
              "      <td>6</td>\n",
              "      <td>1</td>\n",
              "      <td>None</td>\n",
              "      <td>31</td>\n",
              "      <td>2008-07-31T22:08:08.620</td>\n",
              "      <td>140</td>\n",
              "      <td>10912</td>\n",
              "      <td>&lt;p&gt;I have an absolutely positioned &lt;code&gt;div&lt;/...</td>\n",
              "      <td>9</td>\n",
              "      <td>1350209</td>\n",
              "      <td>Rich B</td>\n",
              "      <td>2014-06-26T04:57:13.750</td>\n",
              "      <td>2014-10-10T05:55:36.033</td>\n",
              "      <td>Why doesn't the percentage width child in abso...</td>\n",
              "      <td>&lt;html&gt;&lt;css&gt;&lt;css3&gt;&lt;internet-explorer-7&gt;</td>\n",
              "      <td>5</td>\n",
              "      <td>0</td>\n",
              "      <td>7</td>\n",
              "      <td>None</td>\n",
              "    </tr>\n",
              "    <tr>\n",
              "      <th>2</th>\n",
              "      <td>7</td>\n",
              "      <td>2</td>\n",
              "      <td>4</td>\n",
              "      <td>None</td>\n",
              "      <td>2008-07-31T22:17:57.883</td>\n",
              "      <td>242</td>\n",
              "      <td>None</td>\n",
              "      <td>&lt;p&gt;An explicit cast to double isn't necessary....</td>\n",
              "      <td>9</td>\n",
              "      <td>967315</td>\n",
              "      <td>None</td>\n",
              "      <td>2012-10-14T11:50:16.703</td>\n",
              "      <td>2012-10-14T11:50:16.703</td>\n",
              "      <td>None</td>\n",
              "      <td>None</td>\n",
              "      <td>None</td>\n",
              "      <td>0</td>\n",
              "      <td>None</td>\n",
              "      <td>None</td>\n",
              "    </tr>\n",
              "  </tbody>\n",
              "</table>\n",
              "</div>\n",
              "    <div class=\"colab-df-buttons\">\n",
              "\n",
              "  <div class=\"colab-df-container\">\n",
              "    <button class=\"colab-df-convert\" onclick=\"convertToInteractive('df-6582449f-4b93-447a-bb12-ed005e2d6b44')\"\n",
              "            title=\"Convert this dataframe to an interactive table.\"\n",
              "            style=\"display:none;\">\n",
              "\n",
              "  <svg xmlns=\"http://www.w3.org/2000/svg\" height=\"24px\" viewBox=\"0 -960 960 960\">\n",
              "    <path d=\"M120-120v-720h720v720H120Zm60-500h600v-160H180v160Zm220 220h160v-160H400v160Zm0 220h160v-160H400v160ZM180-400h160v-160H180v160Zm440 0h160v-160H620v160ZM180-180h160v-160H180v160Zm440 0h160v-160H620v160Z\"/>\n",
              "  </svg>\n",
              "    </button>\n",
              "\n",
              "  <style>\n",
              "    .colab-df-container {\n",
              "      display:flex;\n",
              "      gap: 12px;\n",
              "    }\n",
              "\n",
              "    .colab-df-convert {\n",
              "      background-color: #E8F0FE;\n",
              "      border: none;\n",
              "      border-radius: 50%;\n",
              "      cursor: pointer;\n",
              "      display: none;\n",
              "      fill: #1967D2;\n",
              "      height: 32px;\n",
              "      padding: 0 0 0 0;\n",
              "      width: 32px;\n",
              "    }\n",
              "\n",
              "    .colab-df-convert:hover {\n",
              "      background-color: #E2EBFA;\n",
              "      box-shadow: 0px 1px 2px rgba(60, 64, 67, 0.3), 0px 1px 3px 1px rgba(60, 64, 67, 0.15);\n",
              "      fill: #174EA6;\n",
              "    }\n",
              "\n",
              "    .colab-df-buttons div {\n",
              "      margin-bottom: 4px;\n",
              "    }\n",
              "\n",
              "    [theme=dark] .colab-df-convert {\n",
              "      background-color: #3B4455;\n",
              "      fill: #D2E3FC;\n",
              "    }\n",
              "\n",
              "    [theme=dark] .colab-df-convert:hover {\n",
              "      background-color: #434B5C;\n",
              "      box-shadow: 0px 1px 3px 1px rgba(0, 0, 0, 0.15);\n",
              "      filter: drop-shadow(0px 1px 2px rgba(0, 0, 0, 0.3));\n",
              "      fill: #FFFFFF;\n",
              "    }\n",
              "  </style>\n",
              "\n",
              "    <script>\n",
              "      const buttonEl =\n",
              "        document.querySelector('#df-6582449f-4b93-447a-bb12-ed005e2d6b44 button.colab-df-convert');\n",
              "      buttonEl.style.display =\n",
              "        google.colab.kernel.accessAllowed ? 'block' : 'none';\n",
              "\n",
              "      async function convertToInteractive(key) {\n",
              "        const element = document.querySelector('#df-6582449f-4b93-447a-bb12-ed005e2d6b44');\n",
              "        const dataTable =\n",
              "          await google.colab.kernel.invokeFunction('convertToInteractive',\n",
              "                                                    [key], {});\n",
              "        if (!dataTable) return;\n",
              "\n",
              "        const docLinkHtml = 'Like what you see? Visit the ' +\n",
              "          '<a target=\"_blank\" href=https://colab.research.google.com/notebooks/data_table.ipynb>data table notebook</a>'\n",
              "          + ' to learn more about interactive tables.';\n",
              "        element.innerHTML = '';\n",
              "        dataTable['output_type'] = 'display_data';\n",
              "        await google.colab.output.renderOutput(dataTable, element);\n",
              "        const docLink = document.createElement('div');\n",
              "        docLink.innerHTML = docLinkHtml;\n",
              "        element.appendChild(docLink);\n",
              "      }\n",
              "    </script>\n",
              "  </div>\n",
              "\n",
              "\n",
              "<div id=\"df-f4776174-b101-4b6f-a07d-ad9889bd316a\">\n",
              "  <button class=\"colab-df-quickchart\" onclick=\"quickchart('df-f4776174-b101-4b6f-a07d-ad9889bd316a')\"\n",
              "            title=\"Suggest charts\"\n",
              "            style=\"display:none;\">\n",
              "\n",
              "<svg xmlns=\"http://www.w3.org/2000/svg\" height=\"24px\"viewBox=\"0 0 24 24\"\n",
              "     width=\"24px\">\n",
              "    <g>\n",
              "        <path d=\"M19 3H5c-1.1 0-2 .9-2 2v14c0 1.1.9 2 2 2h14c1.1 0 2-.9 2-2V5c0-1.1-.9-2-2-2zM9 17H7v-7h2v7zm4 0h-2V7h2v10zm4 0h-2v-4h2v4z\"/>\n",
              "    </g>\n",
              "</svg>\n",
              "  </button>\n",
              "\n",
              "<style>\n",
              "  .colab-df-quickchart {\n",
              "      --bg-color: #E8F0FE;\n",
              "      --fill-color: #1967D2;\n",
              "      --hover-bg-color: #E2EBFA;\n",
              "      --hover-fill-color: #174EA6;\n",
              "      --disabled-fill-color: #AAA;\n",
              "      --disabled-bg-color: #DDD;\n",
              "  }\n",
              "\n",
              "  [theme=dark] .colab-df-quickchart {\n",
              "      --bg-color: #3B4455;\n",
              "      --fill-color: #D2E3FC;\n",
              "      --hover-bg-color: #434B5C;\n",
              "      --hover-fill-color: #FFFFFF;\n",
              "      --disabled-bg-color: #3B4455;\n",
              "      --disabled-fill-color: #666;\n",
              "  }\n",
              "\n",
              "  .colab-df-quickchart {\n",
              "    background-color: var(--bg-color);\n",
              "    border: none;\n",
              "    border-radius: 50%;\n",
              "    cursor: pointer;\n",
              "    display: none;\n",
              "    fill: var(--fill-color);\n",
              "    height: 32px;\n",
              "    padding: 0;\n",
              "    width: 32px;\n",
              "  }\n",
              "\n",
              "  .colab-df-quickchart:hover {\n",
              "    background-color: var(--hover-bg-color);\n",
              "    box-shadow: 0 1px 2px rgba(60, 64, 67, 0.3), 0 1px 3px 1px rgba(60, 64, 67, 0.15);\n",
              "    fill: var(--button-hover-fill-color);\n",
              "  }\n",
              "\n",
              "  .colab-df-quickchart-complete:disabled,\n",
              "  .colab-df-quickchart-complete:disabled:hover {\n",
              "    background-color: var(--disabled-bg-color);\n",
              "    fill: var(--disabled-fill-color);\n",
              "    box-shadow: none;\n",
              "  }\n",
              "\n",
              "  .colab-df-spinner {\n",
              "    border: 2px solid var(--fill-color);\n",
              "    border-color: transparent;\n",
              "    border-bottom-color: var(--fill-color);\n",
              "    animation:\n",
              "      spin 1s steps(1) infinite;\n",
              "  }\n",
              "\n",
              "  @keyframes spin {\n",
              "    0% {\n",
              "      border-color: transparent;\n",
              "      border-bottom-color: var(--fill-color);\n",
              "      border-left-color: var(--fill-color);\n",
              "    }\n",
              "    20% {\n",
              "      border-color: transparent;\n",
              "      border-left-color: var(--fill-color);\n",
              "      border-top-color: var(--fill-color);\n",
              "    }\n",
              "    30% {\n",
              "      border-color: transparent;\n",
              "      border-left-color: var(--fill-color);\n",
              "      border-top-color: var(--fill-color);\n",
              "      border-right-color: var(--fill-color);\n",
              "    }\n",
              "    40% {\n",
              "      border-color: transparent;\n",
              "      border-right-color: var(--fill-color);\n",
              "      border-top-color: var(--fill-color);\n",
              "    }\n",
              "    60% {\n",
              "      border-color: transparent;\n",
              "      border-right-color: var(--fill-color);\n",
              "    }\n",
              "    80% {\n",
              "      border-color: transparent;\n",
              "      border-right-color: var(--fill-color);\n",
              "      border-bottom-color: var(--fill-color);\n",
              "    }\n",
              "    90% {\n",
              "      border-color: transparent;\n",
              "      border-bottom-color: var(--fill-color);\n",
              "    }\n",
              "  }\n",
              "</style>\n",
              "\n",
              "  <script>\n",
              "    async function quickchart(key) {\n",
              "      const quickchartButtonEl =\n",
              "        document.querySelector('#' + key + ' button');\n",
              "      quickchartButtonEl.disabled = true;  // To prevent multiple clicks.\n",
              "      quickchartButtonEl.classList.add('colab-df-spinner');\n",
              "      try {\n",
              "        const charts = await google.colab.kernel.invokeFunction(\n",
              "            'suggestCharts', [key], {});\n",
              "      } catch (error) {\n",
              "        console.error('Error during call to suggestCharts:', error);\n",
              "      }\n",
              "      quickchartButtonEl.classList.remove('colab-df-spinner');\n",
              "      quickchartButtonEl.classList.add('colab-df-quickchart-complete');\n",
              "    }\n",
              "    (() => {\n",
              "      let quickchartButtonEl =\n",
              "        document.querySelector('#df-f4776174-b101-4b6f-a07d-ad9889bd316a button');\n",
              "      quickchartButtonEl.style.display =\n",
              "        google.colab.kernel.accessAllowed ? 'block' : 'none';\n",
              "    })();\n",
              "  </script>\n",
              "</div>\n",
              "    </div>\n",
              "  </div>\n"
            ]
          },
          "metadata": {},
          "execution_count": 7
        }
      ]
    },
    {
      "cell_type": "code",
      "source": [
        "df.columns"
      ],
      "metadata": {
        "colab": {
          "base_uri": "https://localhost:8080/"
        },
        "id": "IOyPu2vGxjua",
        "outputId": "9762d9b7-ff7f-4ed5-9059-0e7a3dc1e1f6"
      },
      "execution_count": 8,
      "outputs": [
        {
          "output_type": "execute_result",
          "data": {
            "text/plain": [
              "Index(['id', 'PostTypeId', 'ParentId', 'AcceptedAnswerId', 'CreationDate',\n",
              "       'Score', 'ViewCount', 'Body', 'OwnerUserId', 'LastEditorUserId',\n",
              "       'LastEditorDisplayName', 'LastEditDate', 'LastActivityDate', 'Title',\n",
              "       'Tags', 'AnswerCount', 'CommentCount', 'FavoriteCount',\n",
              "       'CommunityOwnedDate'],\n",
              "      dtype='object')"
            ]
          },
          "metadata": {},
          "execution_count": 8
        }
      ]
    },
    {
      "cell_type": "code",
      "source": [
        "df.drop(columns=['AcceptedAnswerId','OwnerUserId', 'LastEditorUserId', 'LastEditorDisplayName','LastEditDate', 'LastActivityDate','CommunityOwnedDate'], inplace=True)"
      ],
      "metadata": {
        "id": "Ep8_xW2KxU7D"
      },
      "execution_count": 9,
      "outputs": []
    },
    {
      "cell_type": "code",
      "source": [
        "df['CreationDate'] = pd.to_datetime(df['CreationDate'])"
      ],
      "metadata": {
        "id": "PcFvL1JTylNB"
      },
      "execution_count": 15,
      "outputs": []
    },
    {
      "cell_type": "code",
      "source": [
        "# Count the number of null values in each column\n",
        "null_counts = df.isnull().sum()\n",
        "\n",
        "# Display the count of null values for each column\n",
        "print(null_counts)\n"
      ],
      "metadata": {
        "colab": {
          "base_uri": "https://localhost:8080/"
        },
        "id": "qKWuVzCCxMTT",
        "outputId": "6f319d87-93d5-4930-b4f6-e3530e46a7da"
      },
      "execution_count": 10,
      "outputs": [
        {
          "output_type": "stream",
          "name": "stdout",
          "text": [
            "id                 0\n",
            "PostTypeId         0\n",
            "ParentId          71\n",
            "CreationDate       0\n",
            "Score              0\n",
            "ViewCount        150\n",
            "Body               0\n",
            "Title            150\n",
            "Tags             150\n",
            "AnswerCount      150\n",
            "CommentCount       0\n",
            "FavoriteCount    159\n",
            "dtype: int64\n"
          ]
        }
      ]
    },
    {
      "cell_type": "markdown",
      "source": [
        "# Question Analysis\n",
        "\n",
        "PostTypeId field :\n",
        "\n",
        "1=Questions\n",
        "\n",
        "2=Answers"
      ],
      "metadata": {
        "id": "tGs0SfZbx65q"
      }
    },
    {
      "cell_type": "code",
      "source": [
        "df_question = df[df['PostTypeId'] == '1'].copy()\n",
        "df_question.drop(columns=['PostTypeId','ParentId'], inplace=True)"
      ],
      "metadata": {
        "id": "YMdonrwyxw1U"
      },
      "execution_count": 20,
      "outputs": []
    },
    {
      "cell_type": "code",
      "source": [
        "df_question['BodyLength']  = df_question['Body'].str.len()\n",
        "df_question['TitleLength']  = df_question['Title'].str.len()"
      ],
      "metadata": {
        "id": "7I-Aa_fGyd4j"
      },
      "execution_count": 21,
      "outputs": []
    },
    {
      "cell_type": "code",
      "source": [
        "columns_to_convert = ['id','Score', 'ViewCount', 'AnswerCount', 'CommentCount', 'FavoriteCount']\n",
        "for col in columns_to_convert:\n",
        "    df_question[col] = df_question[col].fillna(0).astype(int)"
      ],
      "metadata": {
        "id": "BT_k0jH0yzRI"
      },
      "execution_count": 24,
      "outputs": []
    },
    {
      "cell_type": "code",
      "source": [
        "def clean_tags(tags_string):\n",
        "    tags_string = ' '.join(tag.strip('<>') for tag in tags_string.split('>'))\n",
        "    cleaned_tags = ' '.join(tag for tag in tags_string.split('<'))\n",
        "    return cleaned_tags.replace('-', ' ')\n",
        "\n",
        "# Apply the function directly to create the 'Cleaned_Tags' column\n",
        "df_question['Cleaned_Tags'] = df_question['Tags'].apply(clean_tags)\n",
        "df_question.drop(columns=['Tags'], inplace=True)\n",
        "df_question['Cleaned_Tags']"
      ],
      "metadata": {
        "colab": {
          "base_uri": "https://localhost:8080/"
        },
        "id": "AHvYPDJNzTQK",
        "outputId": "319dd793-8cb5-4e8f-bafc-3b00298282cb"
      },
      "execution_count": 26,
      "outputs": [
        {
          "output_type": "execute_result",
          "data": {
            "text/plain": [
              "0       c# winforms type conversion opacity \n",
              "1         html css css3 internet explorer 7 \n",
              "3                          c# .net datetime \n",
              "4                               c# datediff \n",
              "6      html browser timezone timezoneoffset \n",
              "                       ...                  \n",
              "207              python osx fonts photoshop \n",
              "208                       .net web services \n",
              "211                c# winforms data binding \n",
              "214                python windows image pdf \n",
              "216                ruby on rails ruby crash \n",
              "Name: Cleaned_Tags, Length: 71, dtype: object"
            ]
          },
          "metadata": {},
          "execution_count": 26
        }
      ]
    },
    {
      "cell_type": "code",
      "source": [
        "stop_words = set(stopwords.words('english'))\n",
        "ps = PorterStemmer()\n",
        "\n",
        "def similarity(query, document):\n",
        "\n",
        "    result = []\n",
        "    m = len(query)\n",
        "    for i in range(m) :\n",
        "        query_tokens = word_tokenize(query[i])\n",
        "        document_tokens = word_tokenize(document[i])\n",
        "        filtered_query = [ps.stem(w) for w in query_tokens if not w.lower() in stop_words]\n",
        "        filtered_document = [ps.stem(w) for w in document_tokens if not w.lower() in stop_words]\n",
        "\n",
        "        intersection = set(filtered_query).intersection(set(filtered_document))\n",
        "        #union = set(filtered_query[i]).union(set(filtered_document[i]))\n",
        "        result.append(int(len(intersection)/len(set(filtered_query))*100))\n",
        "    return result"
      ],
      "metadata": {
        "id": "d_rnQx4DzbWa"
      },
      "execution_count": 27,
      "outputs": []
    },
    {
      "cell_type": "code",
      "source": [
        "df_question['sim_Tags_Body'] = similarity(df_question['Cleaned_Tags'].str.lower().tolist(), df_question['Body'].str.lower().tolist())"
      ],
      "metadata": {
        "id": "_yy09SmGzkRd"
      },
      "execution_count": 37,
      "outputs": []
    },
    {
      "cell_type": "code",
      "source": [
        "df_question.columns"
      ],
      "metadata": {
        "colab": {
          "base_uri": "https://localhost:8080/"
        },
        "id": "ekvCeAvR0Kpg",
        "outputId": "c02ec30c-ffc6-49ad-a590-ed5f2e96f346"
      },
      "execution_count": 31,
      "outputs": [
        {
          "output_type": "execute_result",
          "data": {
            "text/plain": [
              "Index(['id', 'CreationDate', 'Score', 'ViewCount', 'Body', 'Title',\n",
              "       'AnswerCount', 'CommentCount', 'FavoriteCount', 'BodyLength',\n",
              "       'TitleLength', 'Cleaned_Tags', 'sim_Tags_Body'],\n",
              "      dtype='object')"
            ]
          },
          "metadata": {},
          "execution_count": 31
        }
      ]
    },
    {
      "cell_type": "code",
      "source": [
        "\n",
        "# Drop the column to ignore\n",
        "column_to_ignore = ['id', 'CreationDate','Body','Title','Cleaned_Tags']\n",
        "columns_except_ignored = df_question.drop(columns=column_to_ignore)\n",
        "\n",
        "# Calculate correlation matrix\n",
        "correlation_matrix = columns_except_ignored.corr()\n",
        "\n",
        "# Plot heatmap\n",
        "plt.figure(figsize=(8, 6))\n",
        "sns.heatmap(correlation_matrix, annot=True, cmap='coolwarm', fmt='.2f')\n",
        "plt.title('Correlation Heatmap (Ignoring ColumnToIgnore)')\n",
        "plt.show()"
      ],
      "metadata": {
        "colab": {
          "base_uri": "https://localhost:8080/",
          "height": 640
        },
        "id": "ozob_hCZ0JWD",
        "outputId": "c3426e91-1cb6-4e3c-dc4f-6f4201f02090"
      },
      "execution_count": 39,
      "outputs": [
        {
          "output_type": "display_data",
          "data": {
            "text/plain": [
              "<Figure size 800x600 with 2 Axes>"
            ],
            "image/png": "[encoded data removed]"
          },
          "metadata": {}
        }
      ]
    }
  ]
}